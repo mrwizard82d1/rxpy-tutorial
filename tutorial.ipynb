{
 "cells": [
  {
   "cell_type": "code",
   "execution_count": null,
   "id": "82e2094e-8ffb-4f3e-8a39-45e44498eada",
   "metadata": {},
   "outputs": [],
   "source": [
    "from rx import create"
   ]
  },
  {
   "cell_type": "code",
   "execution_count": null,
   "id": "4b8638a2-fc7b-4a99-9822-bb8d53c1ed86",
   "metadata": {},
   "outputs": [],
   "source": [
    "def push_five_strings(observer, scheduler):\n",
    "    observer.on_next('Alpha')\n",
    "    observer.on_next('Beta')\n",
    "    observer.on_next('Gamma')\n",
    "    observer.on_next('Delta')\n",
    "    observer.on_next('Epsilon')\n",
    "    observer.on_completed()"
   ]
  },
  {
   "cell_type": "code",
   "execution_count": null,
   "id": "2fc9a22f-ba71-4eab-95c1-0ea87b78d6d3",
   "metadata": {},
   "outputs": [],
   "source": [
    "source = create(push_five_strings)"
   ]
  },
  {
   "cell_type": "code",
   "execution_count": null,
   "id": "74170ef8-44cc-461f-ba01-6b66248cb7d5",
   "metadata": {},
   "outputs": [],
   "source": [
    "source.subscribe(\n",
    "    on_next=lambda x: print(f'Received {x}'),\n",
    "    on_error=lambda ex: print(f'Error {x}'),\n",
    "    on_completed=lambda: print('Done!')\n",
    ")"
   ]
  },
  {
   "cell_type": "code",
   "execution_count": null,
   "id": "5ab55b5f-ffa1-4b81-a875-bdc6e3ee30fa",
   "metadata": {},
   "outputs": [],
   "source": []
  }
 ],
 "metadata": {
  "kernelspec": {
   "display_name": "Python 3 (ipykernel)",
   "language": "python",
   "name": "python3"
  },
  "language_info": {
   "codemirror_mode": {
    "name": "ipython",
    "version": 3
   },
   "file_extension": ".py",
   "mimetype": "text/x-python",
   "name": "python",
   "nbconvert_exporter": "python",
   "pygments_lexer": "ipython3",
   "version": "3.8.7"
  }
 },
 "nbformat": 4,
 "nbformat_minor": 5
}
